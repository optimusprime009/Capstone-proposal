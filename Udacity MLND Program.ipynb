{
 "cells": [
  {
   "cell_type": "markdown",
   "metadata": {},
   "source": [
    "# Machine Learning Engineer Nanodegree"
   ]
  },
  {
   "cell_type": "markdown",
   "metadata": {},
   "source": [
    "## Project Proposal Author\n",
    "\n",
    "Himanshu Tripathi"
   ]
  },
  {
   "cell_type": "markdown",
   "metadata": {},
   "source": [
    "## Capstone Proposal"
   ]
  },
  {
   "cell_type": "markdown",
   "metadata": {},
   "source": [
    "### Domain Background\n",
    "\n",
    "[comment]: # (_approx. 1-2 paragraphs_)\n",
    "\n",
    "[comment]: # (In this section, provide brief details on the background information of the domain from which the project is proposed. Historical information relevant to the project should be included. It should be clear how or why a problem in the domain can or should be solved. Related academic research should be appropriately cited in this section, including why that research is relevant. Additionally, a discussion of your personal motivation for investigating a particular problem in the domain is encouraged but not required.)\n",
    "\n",
    "What is a fair offer to place when selling or buying a home? How to efficiently come to that fair price? The real estate area has been adopting machine learning to analyse historical data in that market and use several criterias to find a well balanced model to help predicting house prices.\n",
    "\n",
    "Personally, my main motivation for this particular problem is that I've talked to Loft's CTO in a local event at Sao Paulo - Brazil, and I've found out that [Loft uses machine learning to predict the house prices](https://blog.loft.com.br/entenda-como-a-loft-chega-no-valor-de-um-apartamento/) in their business, and it is a core value. I already knew about the [house prices kaggle getting started competition](https://www.kaggle.com/c/house-prices-advanced-regression-techniques), but it hadn't took my attention until that moment. I realized it wasn't just a getting started challenge, it is actually a real world problem that real world companies need to solve."
   ]
  },
  {
   "cell_type": "markdown",
   "metadata": {},
   "source": [
    "### Problem Statement\n",
    "\n",
    "[comment]: # (_approx. 1 paragraph_)\n",
    "\n",
    "[comment]: # (In this section, clearly describe the problem that is to be solved. The problem described should be well defined and should have at least one relevant potential solution. Additionally, describe the problem thoroughly such that it is clear that the problem is quantifiable {the problem can be expressed in mathematical or logical terms}, measurable {the problem can be measured by some metric and clearly observed}, and replicable {the problem can be reproduced and occurs more than once}.)\n",
    "\n",
    "Given a dataset publicly available at [Kaggle](https://www.kaggle.com/c/house-prices-advanced-regression-techniques/data) of homes in Ames - Iowa, having 79 house features, and containing 1460 entry points for training and 1459 entry points for testing, build the best model to predict house sale prices. A great model will predict the house prices as closest as possible to its actual labelled price. The metric used as [evaluation](https://www.kaggle.com/c/house-prices-advanced-regression-techniques/overview/evaluation) is the root mean squared error between the predicted log price and the actual labelled log price, so we have an error scaling equallity."
   ]
  },
  {
   "cell_type": "markdown",
   "metadata": {},
   "source": [
    "### Datasets and Inputs\n",
    "\n",
    "[comment]: # (_approx. 2-3 paragraphs_)\n",
    "\n",
    "[comment]: # (In this section, the dataset and/or input being considered for the project should be thoroughly described, such as how they relate to the problem and why they should be used. Information such as how the dataset or input is {or was} obtained, and the characteristics of the dataset or input, should be included with relevant references and citations as necessary It should be clear how the dataset or input will be used in the project and whether their use is appropriate given the context of the problem.)\n",
    "\n",
    "It is reasonable that to predict a house price, a model should be trained with historical data about houses features and the price that they were sold. Despite that the houses in Ames - Iowa are different from the houses here in Brazil, the [dataset provided in Kaggle's House Prices competition](https://www.kaggle.com/c/house-prices-advanced-regression-techniques/data) would still get the essence of the work that should be done if the data was from a different location since most of the features would also be applicable in different contexts.\n",
    "\n",
    "The dataset is very feature-detailed, providing several characteristics about the dataset's houses, such as: the sale price in dollars (target variable), the date, type, and condition of the sale, the building class, the zoning class, the lot area in square feet, the street acccess type and road proximity, the property configuration, shape, and slope, neighborhood quality, dwelling type and style, the property's condition and material quality, the construction and remodeling date, infos about the property's roof, foundation, electrical system, exterior, masonry veneer, garage, pool, porch, deck, and basement, the property's heating, fireplace, and air conditioning quality, infos about the rooms like bathrooms, bedroom, and kitchen, and finally how functional the home is overall.\n",
    "\n",
    "Lots of the features are categorical, some of them are nominal like types, styles, and shapes, and they should be one-hot-encoded, but there are also some categorical values that are ordinal, that may be ordered and transformed into numberical values, like class, grades, quality. One point of attention is that some nominal features may look ordinal, but we shouldn't be biased in this decision, because not always a category that looks better than another would mean that it is in fact better in the datapoints.\n",
    "\n",
    "There are also lots of numerical values, some of them are continuous like dollars, area, distance, and some of them are discrete like quantity, year, month. They may have their values scaled, or possibly put into categories like 'Close' vs 'Far' or 'Old' vs 'New' and then one-hot-encoded."
   ]
  },
  {
   "cell_type": "markdown",
   "metadata": {},
   "source": [
    "### Solution Statement\n",
    "\n",
    "[comment]: # (_approx. 1 paragraph_)\n",
    "\n",
    "[comment]: # (In this section, clearly describe a solution to the problem. The solution should be applicable to the project domain and appropriate for the dataset or input given. Additionally, describe the solution thoroughly such that it is clear that the solution is quantifiable {the solution can be expressed in mathematical or logical terms}, measurable {the solution can be measured by some metric and clearly observed}, and replicable {the solution can be reproduced and occurs more than once}.)\n",
    "\n",
    "In the conversation I had with Loft's CTO, he told me that with the house's dataset, they make some clusters, and for each cluster they apply a separate linear regression. I loved how it embraces both unsupervised and supervised learning to get a refined result, and I want to try it out, exercising both concepts in this course Capstone proposal.\n",
    "\n",
    "The idea is to get the transformed data as described in the section above, find the best number of clusters in it, and then for each cluster we train the best linear regression model. With the trained models, to make a prediction, we need to first predict which cluster it is better represented, and then use that cluster's trained linear regression model to predict the house price.\n",
    "\n",
    "To make all these training and predicting processes replicable, we'll use a fixed [training and testing data as provided by Kaggle](https://www.kaggle.com/c/house-prices-advanced-regression-techniques/data). Furthermore, in the training, we should always set a constant `random_state` when applicable."
   ]
  },
  {
   "cell_type": "markdown",
   "metadata": {},
   "source": [
    "### Benchmark Model\n",
    "\n",
    "[comment]: # (_approximately 1-2 paragraphs_)\n",
    "\n",
    "[comment]: # (In this section, provide the details for a benchmark model or result that relates to the domain, problem statement, and intended solution. Ideally, the benchmark model or result contextualizes existing methods or known information in the domain and problem given, which could then be objectively compared to the solution. Describe how the benchmark model or result is measurable {can be measured by some metric and clearly observed} with thorough detail.)\n",
    "\n",
    "- Naive Prediction\n",
    "\n",
    "A simple Naive Predictor should be built to have a minimum base benchmark to beat with a more sophisticated method. The naive prediction can be calculated by the Lot Area of the predicting house times the dataset's mean Sale Price per Lot Area square feet, which can be calculated dividing the dataset's mean Sale Price, by the dataset's mean Lot Area.\n",
    "\n",
    "- Kaggle Competition\n",
    "\n",
    "Analysing the [Kaggle's House Prices Leaderboard data](https://www.kaggle.com/c/house-prices-advanced-regression-techniques/leaderboard), after removing some last mile submission outliers, we have a good overview about scores over existing solution methods resolving this same problem, as we can see below.\n",
    "\n",
    "The main benchmark to achieve are the mean of `0.138870` and then the median of `0.132855` - now we have a mission to accomplish, Yay! Furthermore, I'd consider a great result if we could get under the first quartile of `0.120000`, which would also put us on Top \\#1000! Finally, if getting under `0.110000` I'll pop a champagne and post the photo!"
   ]
  },
  {
   "cell_type": "code",
   "execution_count": 1,
   "metadata": {},
   "outputs": [
    {
     "data": {
      "text/html": [
       "<div>\n",
       "<style scoped>\n",
       "    .dataframe tbody tr th:only-of-type {\n",
       "        vertical-align: middle;\n",
       "    }\n",
       "\n",
       "    .dataframe tbody tr th {\n",
       "        vertical-align: top;\n",
       "    }\n",
       "\n",
       "    .dataframe thead th {\n",
       "        text-align: right;\n",
       "    }\n",
       "</style>\n",
       "<table border=\"1\" class=\"dataframe\">\n",
       "  <thead>\n",
       "    <tr style=\"text-align: right;\">\n",
       "      <th></th>\n",
       "      <th>Score</th>\n",
       "    </tr>\n",
       "  </thead>\n",
       "  <tbody>\n",
       "    <tr>\n",
       "      <th>count</th>\n",
       "      <td>12000.000000</td>\n",
       "    </tr>\n",
       "    <tr>\n",
       "      <th>mean</th>\n",
       "      <td>0.138870</td>\n",
       "    </tr>\n",
       "    <tr>\n",
       "      <th>std</th>\n",
       "      <td>0.023893</td>\n",
       "    </tr>\n",
       "    <tr>\n",
       "      <th>min</th>\n",
       "      <td>0.055330</td>\n",
       "    </tr>\n",
       "    <tr>\n",
       "      <th>25%</th>\n",
       "      <td>0.120000</td>\n",
       "    </tr>\n",
       "    <tr>\n",
       "      <th>50%</th>\n",
       "      <td>0.132855</td>\n",
       "    </tr>\n",
       "    <tr>\n",
       "      <th>75%</th>\n",
       "      <td>0.151622</td>\n",
       "    </tr>\n",
       "    <tr>\n",
       "      <th>max</th>\n",
       "      <td>0.212150</td>\n",
       "    </tr>\n",
       "  </tbody>\n",
       "</table>\n",
       "</div>"
      ],
      "text/plain": [
       "              Score\n",
       "count  12000.000000\n",
       "mean       0.138870\n",
       "std        0.023893\n",
       "min        0.055330\n",
       "25%        0.120000\n",
       "50%        0.132855\n",
       "75%        0.151622\n",
       "max        0.212150"
      ]
     },
     "execution_count": 1,
     "metadata": {},
     "output_type": "execute_result"
    },
    {
     "data": {
      "image/png": "[encoded data removed]",
      "text/plain": [
       "<Figure size 432x288 with 1 Axes>"
      ]
     },
     "metadata": {
      "needs_background": "light"
     },
     "output_type": "display_data"
    }
   ],
   "source": [
    "import pandas as pd\n",
    "import matplotlib.pyplot as plt\n",
    "%matplotlib inline\n",
    "\n",
    "leaderboard = pd.read_csv('house-prices-leaderboard.csv')\n",
    "\n",
    "# sort scores, remove last mile outliers\n",
    "ranking = pd.DataFrame(leaderboard['Score'].sort_values()[:12000])\n",
    "\n",
    "plt.title(\"Kaggle's House Prices Leaderboard Benchmark\")\n",
    "plt.plot(ranking.values)\n",
    "\n",
    "ranking.describe()"
   ]
  },
  {
   "cell_type": "markdown",
   "metadata": {},
   "source": [
    "### Evaluation Metrics\n",
    "\n",
    "[comment]: # (_approx. 1-2 paragraphs_)\n",
    "\n",
    "[comment]: # (In this section, propose at least one evaluation metric that can be used to quantify the performance of both the benchmark model and the solution model. The evaluation metric{s} you propose should be appropriate given the context of the data, the problem statement, and the intended solution. Describe how the evaluation metric{s} are derived and provide an example of their mathematical representations {if applicable}. Complex evaluation metrics should be clearly defined and quantifiable {can be expressed in mathematical or logical terms}.)\n",
    "\n",
    "There are many evaluation methods available in scikit learn in the [`sklearn.metrics`](https://scikit-learn.org/stable/modules/classes.html#sklearn-metrics-metrics) package. As per the proposed solution, we'll have to take at least one [clustering metric](https://scikit-learn.org/stable/modules/classes.html#clustering-metrics) and at least one [regression metric](https://scikit-learn.org/stable/modules/classes.html#regression-metrics).\n",
    "\n",
    "For the clustering part the idea is to use the silhouette score as the metric to find the best number of clusters, since it's the one that we've used most in the course. This evaluation method is provided by scikit learn in [`sklearn.metrics.silhouette_score`](https://scikit-learn.org/stable/modules/generated/sklearn.metrics.silhouette_score.html) module.\n",
    "\n",
    "For the regression part the suggestion is to use the mean squared log error as the metric to find the best regression model, since it's the one that Kaggle will use in the [Leaderboard ranking](https://www.kaggle.com/c/house-prices-advanced-regression-techniques/leaderboard), but mainly because the squared error is aligned with the business objectives (we should predict prices with the least error possible between the prediction and the actual price). This evaluation method is also provided by scikit learn in [`sklearn.metrics.mean_squared_log_error`](https://scikit-learn.org/stable/modules/generated/sklearn.metrics.mean_squared_log_error.html) module."
   ]
  },
  {
   "cell_type": "markdown",
   "metadata": {},
   "source": [
    "### Project Design\n",
    "\n",
    "[comment]: # (_approx. 1 page_)\n",
    "\n",
    "[comment]: # (In this final section, summarize a theoretical workflow for approaching a solution given the problem. Provide thorough discussion for what strategies you may consider employing, what analysis of the data might be required before being used, or which algorithms will be considered for your implementation. The workflow and discussion that you provide should align with the qualities of the previous sections. Additionally, you are encouraged to include small visualizations, pseudocode, or diagrams to aid in describing the project design, but it is not required. The discussion should clearly outline your intended workflow of the capstone project.)\n",
    "\n",
    "Considering all projects we've done in the whole course, and with the help of some references such as a [Machine Learning project checklist](http://www.ic.unicamp.br/~sandra/pdf/class/2018-2/mc886-mo444/Hands_On_Machine_Learning_with_Scikit_Learn_and_TensorFlow-427-432.pdf) and the [Udacity MLND Capstone Report](https://github.com/udacity/machine-learning/blob/master/projects/capstone/capstone_report_template.md) itself, check out below the complete Capstone Project Design and Workflow.\n",
    "\n",
    "- Exploratory Data Analysis\n",
    "\n",
    "Understand each feature type (nominal, ordinal, discrete, continuous, date, time values and corresponding unit), statistics (mean, median, mode, quartiles, standard deviation, distribution, correlation, importance), and abnormalities (missing values, outliers), discussing and visualizing relevant findings.\n",
    "\n",
    "- Data Processing\n",
    "\n",
    "Make relevant feature transformations to address each feature type, handle all features abnormalities, make feature aggregation if any looks promising, and possibly make feature selection and/or dimensionality reduction, depending on the previous findings. Every transformantion must also be applied to the test data.\n",
    "\n",
    "- Naive Predictor\n",
    "\n",
    "Build the Naive Predictor, so we can have the base benchmark before continuing with more sophisticated approaches. The Naive Predictor should be naïve, yet reasonable, and as previously described, it can be achieved with simple math, as exemplified in the following pseudocode:\n",
    "\n",
    "```\n",
    "mean_sale_price = training_dataset['sale_price'].mean()\n",
    "mean_lot_area = training_dataset['lot_area'].mean()\n",
    "mean_sale_price_per_loat_area_square_feet = mean_sale_price / mean_lot_area\n",
    "\n",
    "naive_predictor_price =\n",
    "    predicting_house['lot_area'] * mean_sale_price_per_loat_area_square_feet\n",
    "```\n",
    "\n",
    "This predictor may be submitted to the Kaggle's competition to understand how well it performs by itself.\n",
    "\n",
    "- Clustering Model Selection\n",
    "\n",
    "Before clustering, perform a PCA transformation to avoid the [curse of dimensionality](https://stats.stackexchange.com/q/256172/176988) (we may review this whole section again with different number of components).\n",
    "\n",
    "Given the transofrmed data, train models with different algorithms ([K-Means](https://scikit-learn.org/stable/modules/generated/sklearn.cluster.KMeans.html), [GMM](https://scikit-learn.org/stable/modules/generated/sklearn.mixture.GaussianMixture.html), and [Random Forest](https://nishanthu.github.io/articles/ClusteringUsingRandomForest.html)) and evaluate them through visualization and [`silhouette_score`](https://scikit-learn.org/stable/modules/generated/sklearn.metrics.silhouette_score.html) to have a feeling on the performance of each algorithm (do that for each number of clusters in a reasonable range of values).\n",
    "\n",
    "Select the most appropriate clustering algorithm, and find the most reasonable number of clusters through the [`silhouette_score`](https://scikit-learn.org/stable/modules/generated/sklearn.metrics.silhouette_score.html). With the final clustering model, predict the cluster of each house in both train and test data.\n",
    "\n",
    "- Regression Model Selection\n",
    "\n",
    "For each cluster found, train models with different algorithms ([Logistic Regression](https://scikit-learn.org/stable/modules/generated/sklearn.linear_model.LogisticRegression.html), [Stochastic Gradient Descent](https://scikit-learn.org/stable/modules/generated/sklearn.linear_model.SGDRegressor.html), [XGBoost Regressor](https://xgboost.readthedocs.io/en/latest/python/python_api.html#xgboost.XGBRegressor)) and benchmark each of them with [K-Fold cross-validation](https://scikit-learn.org/stable/modules/generated/sklearn.model_selection.KFold.html) using [`mean_squared_log_error`](https://scikit-learn.org/stable/modules/generated/sklearn.metrics.mean_squared_log_error.html) to measure and validate the performance of each algorithm, making sure that they generalize well.\n",
    "\n",
    "Also perform hyperparameters grid search with both [GridSearchCV](https://scikit-learn.org/stable/modules/generated/sklearn.model_selection.GridSearchCV.html) and [RandomizedSearchCV](https://scikit-learn.org/stable/modules/generated/sklearn.model_selection.RandomizedSearchCV.html), and if applicable do some quick round of EDA and/or data processing, and rerun the benchmark with the changes in order to find the best model for each cluster. Reprocess everything after having inserted an additional 10% of noisy data to assert the robustness of the solution.\n",
    "\n",
    "- Results\n",
    "\n",
    "Visualize the results in the training dataset, comparing the predicted value with the actual value, the error and the squared error of each datapoint.\n",
    "\n",
    "Check how well the proposed solution is performing. Compare its results with the Naive Predictor, it  is expected to be much better. With the promising solution, make the prediction for the competition itself with the test data, submit the results, and compare it with the expectations.\n",
    "\n",
    "Have we got the results to pop a champagne? Elaborate how well it has been, if possible, review the entire process in order to make some adjustments and possibly get a better result. What worked well and what didn't? What was difficult, what was easier than expected, what was interesting and what was fun? Provide any improvements that could be done and alternatives that could be further explored.\n",
    "\n",
    "Make the final considerations regarding the capstone, the course, and the nanograduation.\n",
    "\n",
    "[comment]: # (**Before submitting your proposal, ask yourself. . .**)\n",
    "\n",
    "[comment]: # (Does the proposal you have written follow a well-organized structure similar to that of the project template? Is each section {particularly _Solution Statement_ and _Project Design_ written in a clear, concise and specific fashion? Are there any ambiguous terms or phrases that need clarification? Would the intended audience of your project be able to understand your proposal? Have you properly proofread your proposal to assure there are minimal grammatical and spelling mistakes? Are all the resources used for this project correctly cited and referenced?)\n"
   ]
  }
 ],
 "metadata": {
  "kernelspec": {
   "display_name": "Python 2",
   "language": "python",
   "name": "python2"
  },
  "language_info": {
   "codemirror_mode": {
    "name": "ipython",
    "version": 2
   },
   "file_extension": ".py",
   "mimetype": "text/x-python",
   "name": "python",
   "nbconvert_exporter": "python",
   "pygments_lexer": "ipython2",
   "version": "2.7.15"
  }
 },
 "nbformat": 4,
 "nbformat_minor": 2
}
